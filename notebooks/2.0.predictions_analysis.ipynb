{
 "cells": [
  {
   "cell_type": "markdown",
   "metadata": {},
   "source": [
    "## Analyse predictions of retrained models"
   ]
  },
  {
   "cell_type": "code",
   "execution_count": 1,
   "metadata": {},
   "outputs": [],
   "source": [
    "import pandas as pd\n",
    "import numpy as np\n",
    "import pickle\n",
    "import os\n",
    "from tqdm.auto import tqdm\n",
    "\n",
    "from imblearn.ensemble import BalancedRandomForestClassifier\n",
    "from sklearn.metrics import matthews_corrcoef, roc_auc_score, f1_score, precision_score, recall_score, average_precision_score, balanced_accuracy_score\n",
    "\n",
    "from rdkit import Chem\n",
    "from rdkit.Chem import SaltRemover\n",
    "from rdkit.Chem import AllChem, DataStructs\n",
    "from rdkit import RDLogger\n",
    "\n",
    "import seaborn as sns\n",
    "import matplotlib.pyplot as plt"
   ]
  },
  {
   "cell_type": "code",
   "execution_count": 2,
   "metadata": {},
   "outputs": [],
   "source": [
    "# Disable rdkit logger\n",
    "RDLogger.DisableLog('rdApp.*') "
   ]
  },
  {
   "cell_type": "code",
   "execution_count": 3,
   "metadata": {},
   "outputs": [
    {
     "name": "stdout",
     "output_type": "stream",
     "text": [
      "aggregators.npy\n",
      "chembl.npy\n",
      "fluc.csv\n",
      "nluc.csv\n",
      "redox.csv\n",
      "thiol.csv\n"
     ]
    }
   ],
   "source": [
    "%%bash\n",
    "ls ../../data/test/"
   ]
  },
  {
   "cell_type": "code",
   "execution_count": 4,
   "metadata": {},
   "outputs": [],
   "source": [
    "### DEFINE THE TASK\n",
    "tasks = [\"fluc\", \"nluc\", \"thiol\", \"redox\"]"
   ]
  },
  {
   "cell_type": "code",
   "execution_count": 5,
   "metadata": {},
   "outputs": [],
   "source": [
    "# Compute the fingerprints\n",
    "def compute_morgan(smile, radius):\n",
    "    molecule = Chem.MolFromSmiles(smile)\n",
    "    fp_object = AllChem.GetMorganFingerprintAsBitVect(molecule, radius, nBits=2048)\n",
    "    morgan_fp = np.zeros((0, ))\n",
    "    DataStructs.ConvertToNumpyArray(fp_object, morgan_fp)\n",
    "\n",
    "    return morgan_fp"
   ]
  },
  {
   "cell_type": "code",
   "execution_count": 6,
   "metadata": {},
   "outputs": [],
   "source": [
    "def preprocess(smiles):\n",
    "    salt_remover = SaltRemover.SaltRemover()\n",
    "    smiles = smiles.replace(\"@\", \"\")\n",
    "    smiles = smiles.replace(\"/\", \"\")\n",
    "    mol = Chem.MolFromSmiles(smiles)\n",
    "    mol = salt_remover.StripMol(mol)\n",
    "\n",
    "    return Chem.MolToSmiles(mol)"
   ]
  },
  {
   "cell_type": "markdown",
   "metadata": {},
   "source": [
    "### Compute performances of the original trained model"
   ]
  },
  {
   "cell_type": "code",
   "execution_count": 7,
   "metadata": {},
   "outputs": [
    {
     "data": {
      "application/vnd.jupyter.widget-view+json": {
       "model_id": "1d95ea7432d94ee08d73e5250137af87",
       "version_major": 2,
       "version_minor": 0
      },
      "text/plain": [
       "  0%|          | 0/3924 [00:00<?, ?it/s]"
      ]
     },
     "metadata": {},
     "output_type": "display_data"
    },
    {
     "data": {
      "application/vnd.jupyter.widget-view+json": {
       "model_id": "86095c673a0948af950746a157427e37",
       "version_major": 2,
       "version_minor": 0
      },
      "text/plain": [
       "  0%|          | 0/3918 [00:00<?, ?it/s]"
      ]
     },
     "metadata": {},
     "output_type": "display_data"
    },
    {
     "data": {
      "application/vnd.jupyter.widget-view+json": {
       "model_id": "3bb3ef6c728e400c9034fd21f31e3216",
       "version_major": 2,
       "version_minor": 0
      },
      "text/plain": [
       "  0%|          | 0/3846 [00:00<?, ?it/s]"
      ]
     },
     "metadata": {},
     "output_type": "display_data"
    },
    {
     "data": {
      "application/vnd.jupyter.widget-view+json": {
       "model_id": "9e6285f84e934bcba078fcc9411e4b2d",
       "version_major": 2,
       "version_minor": 0
      },
      "text/plain": [
       "  0%|          | 0/3894 [00:00<?, ?it/s]"
      ]
     },
     "metadata": {},
     "output_type": "display_data"
    }
   ],
   "source": [
    "# Compute train set fingerprints\n",
    "train_dict = {i: None for i in tasks}\n",
    "for task in tasks:\n",
    "    train_data = pd.read_csv(f\"../../data/train/{task}.csv\")\n",
    "    train_data[\"smiles\"] = train_data[\"smiles\"].apply(preprocess)\n",
    "\n",
    "    train_smiles = train_data[\"smiles\"].values\n",
    "    train_labels = train_data[\"label\"].values\n",
    "    train_fps = [compute_morgan(smi, 3) for smi in tqdm(train_smiles)]\n",
    "    train_dict[task] = (train_fps, train_labels)"
   ]
  },
  {
   "cell_type": "code",
   "execution_count": 8,
   "metadata": {},
   "outputs": [
    {
     "data": {
      "application/vnd.jupyter.widget-view+json": {
       "model_id": "eba92619bbc04059be5449fac9254c9c",
       "version_major": 2,
       "version_minor": 0
      },
      "text/plain": [
       "  0%|          | 0/981 [00:00<?, ?it/s]"
      ]
     },
     "metadata": {},
     "output_type": "display_data"
    },
    {
     "data": {
      "application/vnd.jupyter.widget-view+json": {
       "model_id": "30ab45e58c164f8aa3d3b5299ad35998",
       "version_major": 2,
       "version_minor": 0
      },
      "text/plain": [
       "  0%|          | 0/980 [00:00<?, ?it/s]"
      ]
     },
     "metadata": {},
     "output_type": "display_data"
    },
    {
     "data": {
      "application/vnd.jupyter.widget-view+json": {
       "model_id": "6a5552ffddae4986a212acf0872ea73e",
       "version_major": 2,
       "version_minor": 0
      },
      "text/plain": [
       "  0%|          | 0/962 [00:00<?, ?it/s]"
      ]
     },
     "metadata": {},
     "output_type": "display_data"
    },
    {
     "data": {
      "application/vnd.jupyter.widget-view+json": {
       "model_id": "2bbe1419a00d417281f271dbe408c152",
       "version_major": 2,
       "version_minor": 0
      },
      "text/plain": [
       "  0%|          | 0/974 [00:00<?, ?it/s]"
      ]
     },
     "metadata": {},
     "output_type": "display_data"
    }
   ],
   "source": [
    "# Compute test set fingerprints\n",
    "test_dict = {i: None for i in tasks}\n",
    "for task in tasks:\n",
    "    test_data = pd.read_csv(f\"../../data/test/{task}.csv\")\n",
    "    test_data[\"smiles\"] = test_data[\"smiles\"].apply(preprocess)\n",
    "\n",
    "    test_smiles = test_data[\"smiles\"].values\n",
    "    test_labels = test_data[\"label\"].values\n",
    "    test_fps = [compute_morgan(smi, 3) for smi in tqdm(test_smiles)]\n",
    "    test_dict[task] = (test_fps, test_labels)"
   ]
  },
  {
   "cell_type": "code",
   "execution_count": 9,
   "metadata": {},
   "outputs": [
    {
     "name": "stdout",
     "output_type": "stream",
     "text": [
      "\n",
      "fluc\n",
      "Test set positives: 28\n",
      "Percentage of positives in test set: 2.854230377166157\n",
      "\n",
      "nluc\n",
      "Test set positives: 15\n",
      "Percentage of positives in test set: 1.530612244897959\n",
      "\n",
      "thiol\n",
      "Test set positives: 198\n",
      "Percentage of positives in test set: 20.582120582120584\n",
      "\n",
      "redox\n",
      "Test set positives: 29\n",
      "Percentage of positives in test set: 2.97741273100616\n"
     ]
    }
   ],
   "source": [
    "for task, labels in test_dict.items():\n",
    "    print(f\"\\n{task}\")\n",
    "    print(\"Test set positives:\" , (np.sum(labels[1])))\n",
    "    print(\"Percentage of positives in test set:\", (np.sum(labels[1])) / len(labels[1]) * 100)"
   ]
  },
  {
   "cell_type": "code",
   "execution_count": 10,
   "metadata": {},
   "outputs": [
    {
     "name": "stdout",
     "output_type": "stream",
     "text": [
      "\n",
      "redox\n",
      "len(train): 3924\n",
      "len(test): 981\n",
      "0.25\n",
      "\n",
      "redox\n",
      "len(train): 3918\n",
      "len(test): 980\n",
      "0.2501276161306789\n",
      "\n",
      "redox\n",
      "len(train): 3846\n",
      "len(test): 962\n",
      "0.250130005200208\n",
      "\n",
      "redox\n",
      "len(train): 3894\n",
      "len(test): 974\n",
      "0.2501284026707756\n"
     ]
    }
   ],
   "source": [
    "for train, test in zip(train_dict.values(), test_dict.values()):\n",
    "    print(f\"\\n{task}\")\n",
    "    print(\"len(train):\", len(train[0]))\n",
    "    print(\"len(test):\", len(test[0]))\n",
    "    print(len(test[0])/len(train[0]))"
   ]
  },
  {
   "cell_type": "code",
   "execution_count": 11,
   "metadata": {},
   "outputs": [],
   "source": [
    "def predict_with_random_seed(task):\n",
    "    # Load optimized hyperparameters\n",
    "    hyperparameters = np.load(f\"../../FtF4/teacher/results/validation/{task}.npy\", allow_pickle=True)[()]\n",
    "\n",
    "    # Instantiate the model\n",
    "    model = BalancedRandomForestClassifier(\n",
    "                n_estimators = hyperparameters[\"n_estimators\"],\n",
    "                max_depth = hyperparameters[\"max_depth\"],\n",
    "                min_samples_split = hyperparameters[\"min_samples_split\"],\n",
    "                max_features = hyperparameters[\"max_features\"],\n",
    "                bootstrap = True,\n",
    "                n_jobs = 32,\n",
    "                random_state = np.random.randint(0, 1000),\n",
    "                )\n",
    "\n",
    "    # Train and validate.\n",
    "    model.fit(train_fps, train_labels)\n",
    "\n",
    "    # Compute predictions on the test set\n",
    "    preds = model.predict_proba(test_fps)[:, 1]\n",
    "    preds_binary = (preds >= 0.5).astype(int)\n",
    "\n",
    "    return preds, preds_binary\n",
    "\n",
    "# Compute the enrichment factor\n",
    "def ef(y_true, y_pred):\n",
    "    y_true = np.array(y_true)\n",
    "    y_pred = np.array(y_pred)\n",
    "\n",
    "    precision = precision_score(y_true, y_pred)\n",
    "    prevalence = np.sum(y_true) / len(y_true)\n",
    "    \n",
    "    return precision / prevalence\n",
    "# def ef(y_true, y_pred):\n",
    "#     y_true = np.array(y_true)\n",
    "#     y_pred = np.array(y_pred)\n",
    "\n",
    "#     precision = precision_score(y_true, y_pred)\n",
    "#     prevalence = np.sum(y_true) / len(y_true)\n",
    "    \n",
    "#     return precision / prevalence\n",
    "\n",
    "def compute_performance_teacher(task, iter):\n",
    "\n",
    "    performances = {i: None for i in range(1, iter+1)}\n",
    "    \n",
    "    for i in range(iter):\n",
    "        preds, preds_binary = predict_with_random_seed(task)\n",
    "            \n",
    "        tmp_performances = {\n",
    "                        \"positive\": np.sum(preds_binary),\n",
    "                        \"mcc\": matthews_corrcoef(test_labels, preds_binary),\n",
    "                        \"roc_auc\": roc_auc_score(test_labels, preds),\n",
    "                        \"f1\": f1_score(test_labels, preds_binary),\n",
    "                        \"precision\": precision_score(test_labels, preds_binary),\n",
    "                        \"recall\": recall_score(test_labels, preds_binary),\n",
    "                        \"bacc\": balanced_accuracy_score(test_labels, preds_binary),\n",
    "                        \"ef\" : ef(test_labels, preds_binary)\n",
    "                        }\n",
    "        tmp_performances[\"pr_auc\"] = average_precision_score(test_labels, preds)\n",
    "        \n",
    "        performances[i+1] = tmp_performances\n",
    "\n",
    "    df = pd.DataFrame.from_dict(performances)\n",
    "\n",
    "    return df.T\n"
   ]
  },
  {
   "cell_type": "code",
   "execution_count": 12,
   "metadata": {},
   "outputs": [
    {
     "data": {
      "application/vnd.jupyter.widget-view+json": {
       "model_id": "e27bd8d0acce42f191048e00554e0a5f",
       "version_major": 2,
       "version_minor": 0
      },
      "text/plain": [
       "  0%|          | 0/4 [00:00<?, ?it/s]"
      ]
     },
     "metadata": {},
     "output_type": "display_data"
    },
    {
     "name": "stderr",
     "output_type": "stream",
     "text": [
      "/data/shared/software/conda/vincenzo_palmacci/miniconda3/envs/reinvent4/lib/python3.10/site-packages/imblearn/ensemble/_forest.py:577: FutureWarning: The default of `sampling_strategy` will change from `'auto'` to `'all'` in version 0.13. This change will follow the implementation proposed in the original paper. Set to `'all'` to silence this warning and adopt the future behaviour.\n",
      "  warn(\n",
      "/data/shared/software/conda/vincenzo_palmacci/miniconda3/envs/reinvent4/lib/python3.10/site-packages/imblearn/ensemble/_forest.py:589: FutureWarning: The default of `replacement` will change from `False` to `True` in version 0.13. This change will follow the implementation proposed in the original paper. Set to `True` to silence this warning and adopt the future behaviour.\n",
      "  warn(\n",
      "/data/shared/software/conda/vincenzo_palmacci/miniconda3/envs/reinvent4/lib/python3.10/site-packages/imblearn/ensemble/_forest.py:577: FutureWarning: The default of `sampling_strategy` will change from `'auto'` to `'all'` in version 0.13. This change will follow the implementation proposed in the original paper. Set to `'all'` to silence this warning and adopt the future behaviour.\n",
      "  warn(\n",
      "/data/shared/software/conda/vincenzo_palmacci/miniconda3/envs/reinvent4/lib/python3.10/site-packages/imblearn/ensemble/_forest.py:589: FutureWarning: The default of `replacement` will change from `False` to `True` in version 0.13. This change will follow the implementation proposed in the original paper. Set to `True` to silence this warning and adopt the future behaviour.\n",
      "  warn(\n",
      "/data/shared/software/conda/vincenzo_palmacci/miniconda3/envs/reinvent4/lib/python3.10/site-packages/imblearn/ensemble/_forest.py:577: FutureWarning: The default of `sampling_strategy` will change from `'auto'` to `'all'` in version 0.13. This change will follow the implementation proposed in the original paper. Set to `'all'` to silence this warning and adopt the future behaviour.\n",
      "  warn(\n",
      "/data/shared/software/conda/vincenzo_palmacci/miniconda3/envs/reinvent4/lib/python3.10/site-packages/imblearn/ensemble/_forest.py:589: FutureWarning: The default of `replacement` will change from `False` to `True` in version 0.13. This change will follow the implementation proposed in the original paper. Set to `True` to silence this warning and adopt the future behaviour.\n",
      "  warn(\n",
      "/data/shared/software/conda/vincenzo_palmacci/miniconda3/envs/reinvent4/lib/python3.10/site-packages/imblearn/ensemble/_forest.py:577: FutureWarning: The default of `sampling_strategy` will change from `'auto'` to `'all'` in version 0.13. This change will follow the implementation proposed in the original paper. Set to `'all'` to silence this warning and adopt the future behaviour.\n",
      "  warn(\n",
      "/data/shared/software/conda/vincenzo_palmacci/miniconda3/envs/reinvent4/lib/python3.10/site-packages/imblearn/ensemble/_forest.py:589: FutureWarning: The default of `replacement` will change from `False` to `True` in version 0.13. This change will follow the implementation proposed in the original paper. Set to `True` to silence this warning and adopt the future behaviour.\n",
      "  warn(\n",
      "/data/shared/software/conda/vincenzo_palmacci/miniconda3/envs/reinvent4/lib/python3.10/site-packages/imblearn/ensemble/_forest.py:577: FutureWarning: The default of `sampling_strategy` will change from `'auto'` to `'all'` in version 0.13. This change will follow the implementation proposed in the original paper. Set to `'all'` to silence this warning and adopt the future behaviour.\n",
      "  warn(\n",
      "/data/shared/software/conda/vincenzo_palmacci/miniconda3/envs/reinvent4/lib/python3.10/site-packages/imblearn/ensemble/_forest.py:589: FutureWarning: The default of `replacement` will change from `False` to `True` in version 0.13. This change will follow the implementation proposed in the original paper. Set to `True` to silence this warning and adopt the future behaviour.\n",
      "  warn(\n",
      "/data/shared/software/conda/vincenzo_palmacci/miniconda3/envs/reinvent4/lib/python3.10/site-packages/imblearn/ensemble/_forest.py:577: FutureWarning: The default of `sampling_strategy` will change from `'auto'` to `'all'` in version 0.13. This change will follow the implementation proposed in the original paper. Set to `'all'` to silence this warning and adopt the future behaviour.\n",
      "  warn(\n",
      "/data/shared/software/conda/vincenzo_palmacci/miniconda3/envs/reinvent4/lib/python3.10/site-packages/imblearn/ensemble/_forest.py:589: FutureWarning: The default of `replacement` will change from `False` to `True` in version 0.13. This change will follow the implementation proposed in the original paper. Set to `True` to silence this warning and adopt the future behaviour.\n",
      "  warn(\n",
      "/data/shared/software/conda/vincenzo_palmacci/miniconda3/envs/reinvent4/lib/python3.10/site-packages/imblearn/ensemble/_forest.py:577: FutureWarning: The default of `sampling_strategy` will change from `'auto'` to `'all'` in version 0.13. This change will follow the implementation proposed in the original paper. Set to `'all'` to silence this warning and adopt the future behaviour.\n",
      "  warn(\n",
      "/data/shared/software/conda/vincenzo_palmacci/miniconda3/envs/reinvent4/lib/python3.10/site-packages/imblearn/ensemble/_forest.py:589: FutureWarning: The default of `replacement` will change from `False` to `True` in version 0.13. This change will follow the implementation proposed in the original paper. Set to `True` to silence this warning and adopt the future behaviour.\n",
      "  warn(\n",
      "/data/shared/software/conda/vincenzo_palmacci/miniconda3/envs/reinvent4/lib/python3.10/site-packages/imblearn/ensemble/_forest.py:577: FutureWarning: The default of `sampling_strategy` will change from `'auto'` to `'all'` in version 0.13. This change will follow the implementation proposed in the original paper. Set to `'all'` to silence this warning and adopt the future behaviour.\n",
      "  warn(\n",
      "/data/shared/software/conda/vincenzo_palmacci/miniconda3/envs/reinvent4/lib/python3.10/site-packages/imblearn/ensemble/_forest.py:589: FutureWarning: The default of `replacement` will change from `False` to `True` in version 0.13. This change will follow the implementation proposed in the original paper. Set to `True` to silence this warning and adopt the future behaviour.\n",
      "  warn(\n",
      "/data/shared/software/conda/vincenzo_palmacci/miniconda3/envs/reinvent4/lib/python3.10/site-packages/imblearn/ensemble/_forest.py:577: FutureWarning: The default of `sampling_strategy` will change from `'auto'` to `'all'` in version 0.13. This change will follow the implementation proposed in the original paper. Set to `'all'` to silence this warning and adopt the future behaviour.\n",
      "  warn(\n",
      "/data/shared/software/conda/vincenzo_palmacci/miniconda3/envs/reinvent4/lib/python3.10/site-packages/imblearn/ensemble/_forest.py:589: FutureWarning: The default of `replacement` will change from `False` to `True` in version 0.13. This change will follow the implementation proposed in the original paper. Set to `True` to silence this warning and adopt the future behaviour.\n",
      "  warn(\n",
      "/data/shared/software/conda/vincenzo_palmacci/miniconda3/envs/reinvent4/lib/python3.10/site-packages/imblearn/ensemble/_forest.py:577: FutureWarning: The default of `sampling_strategy` will change from `'auto'` to `'all'` in version 0.13. This change will follow the implementation proposed in the original paper. Set to `'all'` to silence this warning and adopt the future behaviour.\n",
      "  warn(\n",
      "/data/shared/software/conda/vincenzo_palmacci/miniconda3/envs/reinvent4/lib/python3.10/site-packages/imblearn/ensemble/_forest.py:589: FutureWarning: The default of `replacement` will change from `False` to `True` in version 0.13. This change will follow the implementation proposed in the original paper. Set to `True` to silence this warning and adopt the future behaviour.\n",
      "  warn(\n",
      "/data/shared/software/conda/vincenzo_palmacci/miniconda3/envs/reinvent4/lib/python3.10/site-packages/imblearn/ensemble/_forest.py:577: FutureWarning: The default of `sampling_strategy` will change from `'auto'` to `'all'` in version 0.13. This change will follow the implementation proposed in the original paper. Set to `'all'` to silence this warning and adopt the future behaviour.\n",
      "  warn(\n",
      "/data/shared/software/conda/vincenzo_palmacci/miniconda3/envs/reinvent4/lib/python3.10/site-packages/imblearn/ensemble/_forest.py:589: FutureWarning: The default of `replacement` will change from `False` to `True` in version 0.13. This change will follow the implementation proposed in the original paper. Set to `True` to silence this warning and adopt the future behaviour.\n",
      "  warn(\n",
      "/data/shared/software/conda/vincenzo_palmacci/miniconda3/envs/reinvent4/lib/python3.10/site-packages/imblearn/ensemble/_forest.py:577: FutureWarning: The default of `sampling_strategy` will change from `'auto'` to `'all'` in version 0.13. This change will follow the implementation proposed in the original paper. Set to `'all'` to silence this warning and adopt the future behaviour.\n",
      "  warn(\n",
      "/data/shared/software/conda/vincenzo_palmacci/miniconda3/envs/reinvent4/lib/python3.10/site-packages/imblearn/ensemble/_forest.py:589: FutureWarning: The default of `replacement` will change from `False` to `True` in version 0.13. This change will follow the implementation proposed in the original paper. Set to `True` to silence this warning and adopt the future behaviour.\n",
      "  warn(\n",
      "/data/shared/software/conda/vincenzo_palmacci/miniconda3/envs/reinvent4/lib/python3.10/site-packages/imblearn/ensemble/_forest.py:577: FutureWarning: The default of `sampling_strategy` will change from `'auto'` to `'all'` in version 0.13. This change will follow the implementation proposed in the original paper. Set to `'all'` to silence this warning and adopt the future behaviour.\n",
      "  warn(\n",
      "/data/shared/software/conda/vincenzo_palmacci/miniconda3/envs/reinvent4/lib/python3.10/site-packages/imblearn/ensemble/_forest.py:589: FutureWarning: The default of `replacement` will change from `False` to `True` in version 0.13. This change will follow the implementation proposed in the original paper. Set to `True` to silence this warning and adopt the future behaviour.\n",
      "  warn(\n",
      "/data/shared/software/conda/vincenzo_palmacci/miniconda3/envs/reinvent4/lib/python3.10/site-packages/imblearn/ensemble/_forest.py:577: FutureWarning: The default of `sampling_strategy` will change from `'auto'` to `'all'` in version 0.13. This change will follow the implementation proposed in the original paper. Set to `'all'` to silence this warning and adopt the future behaviour.\n",
      "  warn(\n",
      "/data/shared/software/conda/vincenzo_palmacci/miniconda3/envs/reinvent4/lib/python3.10/site-packages/imblearn/ensemble/_forest.py:589: FutureWarning: The default of `replacement` will change from `False` to `True` in version 0.13. This change will follow the implementation proposed in the original paper. Set to `True` to silence this warning and adopt the future behaviour.\n",
      "  warn(\n",
      "/data/shared/software/conda/vincenzo_palmacci/miniconda3/envs/reinvent4/lib/python3.10/site-packages/imblearn/ensemble/_forest.py:577: FutureWarning: The default of `sampling_strategy` will change from `'auto'` to `'all'` in version 0.13. This change will follow the implementation proposed in the original paper. Set to `'all'` to silence this warning and adopt the future behaviour.\n",
      "  warn(\n",
      "/data/shared/software/conda/vincenzo_palmacci/miniconda3/envs/reinvent4/lib/python3.10/site-packages/imblearn/ensemble/_forest.py:589: FutureWarning: The default of `replacement` will change from `False` to `True` in version 0.13. This change will follow the implementation proposed in the original paper. Set to `True` to silence this warning and adopt the future behaviour.\n",
      "  warn(\n",
      "/data/shared/software/conda/vincenzo_palmacci/miniconda3/envs/reinvent4/lib/python3.10/site-packages/imblearn/ensemble/_forest.py:577: FutureWarning: The default of `sampling_strategy` will change from `'auto'` to `'all'` in version 0.13. This change will follow the implementation proposed in the original paper. Set to `'all'` to silence this warning and adopt the future behaviour.\n",
      "  warn(\n",
      "/data/shared/software/conda/vincenzo_palmacci/miniconda3/envs/reinvent4/lib/python3.10/site-packages/imblearn/ensemble/_forest.py:589: FutureWarning: The default of `replacement` will change from `False` to `True` in version 0.13. This change will follow the implementation proposed in the original paper. Set to `True` to silence this warning and adopt the future behaviour.\n",
      "  warn(\n",
      "/data/shared/software/conda/vincenzo_palmacci/miniconda3/envs/reinvent4/lib/python3.10/site-packages/imblearn/ensemble/_forest.py:577: FutureWarning: The default of `sampling_strategy` will change from `'auto'` to `'all'` in version 0.13. This change will follow the implementation proposed in the original paper. Set to `'all'` to silence this warning and adopt the future behaviour.\n",
      "  warn(\n",
      "/data/shared/software/conda/vincenzo_palmacci/miniconda3/envs/reinvent4/lib/python3.10/site-packages/imblearn/ensemble/_forest.py:589: FutureWarning: The default of `replacement` will change from `False` to `True` in version 0.13. This change will follow the implementation proposed in the original paper. Set to `True` to silence this warning and adopt the future behaviour.\n",
      "  warn(\n",
      "/data/shared/software/conda/vincenzo_palmacci/miniconda3/envs/reinvent4/lib/python3.10/site-packages/imblearn/ensemble/_forest.py:577: FutureWarning: The default of `sampling_strategy` will change from `'auto'` to `'all'` in version 0.13. This change will follow the implementation proposed in the original paper. Set to `'all'` to silence this warning and adopt the future behaviour.\n",
      "  warn(\n",
      "/data/shared/software/conda/vincenzo_palmacci/miniconda3/envs/reinvent4/lib/python3.10/site-packages/imblearn/ensemble/_forest.py:589: FutureWarning: The default of `replacement` will change from `False` to `True` in version 0.13. This change will follow the implementation proposed in the original paper. Set to `True` to silence this warning and adopt the future behaviour.\n",
      "  warn(\n",
      "/data/shared/software/conda/vincenzo_palmacci/miniconda3/envs/reinvent4/lib/python3.10/site-packages/imblearn/ensemble/_forest.py:577: FutureWarning: The default of `sampling_strategy` will change from `'auto'` to `'all'` in version 0.13. This change will follow the implementation proposed in the original paper. Set to `'all'` to silence this warning and adopt the future behaviour.\n",
      "  warn(\n",
      "/data/shared/software/conda/vincenzo_palmacci/miniconda3/envs/reinvent4/lib/python3.10/site-packages/imblearn/ensemble/_forest.py:589: FutureWarning: The default of `replacement` will change from `False` to `True` in version 0.13. This change will follow the implementation proposed in the original paper. Set to `True` to silence this warning and adopt the future behaviour.\n",
      "  warn(\n",
      "/data/shared/software/conda/vincenzo_palmacci/miniconda3/envs/reinvent4/lib/python3.10/site-packages/imblearn/ensemble/_forest.py:577: FutureWarning: The default of `sampling_strategy` will change from `'auto'` to `'all'` in version 0.13. This change will follow the implementation proposed in the original paper. Set to `'all'` to silence this warning and adopt the future behaviour.\n",
      "  warn(\n",
      "/data/shared/software/conda/vincenzo_palmacci/miniconda3/envs/reinvent4/lib/python3.10/site-packages/imblearn/ensemble/_forest.py:589: FutureWarning: The default of `replacement` will change from `False` to `True` in version 0.13. This change will follow the implementation proposed in the original paper. Set to `True` to silence this warning and adopt the future behaviour.\n",
      "  warn(\n"
     ]
    }
   ],
   "source": [
    "teacher_dict = {i: None for i in tasks}\n",
    "for task in tqdm(tasks):\n",
    "    train_fps, train_labels = train_dict[task]\n",
    "    test_fps, test_labels = test_dict[task]\n",
    "    teacher_performances = compute_performance_teacher(task, 5)\n",
    "    teacher_dict[task] = teacher_performances"
   ]
  },
  {
   "cell_type": "code",
   "execution_count": 13,
   "metadata": {},
   "outputs": [],
   "source": [
    "from IPython.display import HTML\n",
    "\n",
    "def side_by_side(*dfs):\n",
    "    html = '<div style=\"display:flex\">'\n",
    "    for df in dfs:\n",
    "        html += '<div style=\"margin-right: 2em\">'\n",
    "        html += df.to_html()\n",
    "        html += '</div>'\n",
    "    html += '</div>'\n",
    "    display(HTML(html))"
   ]
  },
  {
   "cell_type": "code",
   "execution_count": 14,
   "metadata": {},
   "outputs": [
    {
     "data": {
      "text/html": [
       "<div style=\"display:flex\"><div style=\"margin-right: 2em\"><table border=\"1\" class=\"dataframe\">\n",
       "  <thead>\n",
       "    <tr style=\"text-align: right;\">\n",
       "      <th></th>\n",
       "      <th>positive</th>\n",
       "      <th>mcc</th>\n",
       "      <th>roc_auc</th>\n",
       "      <th>f1</th>\n",
       "      <th>precision</th>\n",
       "      <th>recall</th>\n",
       "      <th>bacc</th>\n",
       "      <th>ef</th>\n",
       "      <th>pr_auc</th>\n",
       "    </tr>\n",
       "  </thead>\n",
       "  <tbody>\n",
       "    <tr>\n",
       "      <th>count</th>\n",
       "      <td>5.000000</td>\n",
       "      <td>5.000000</td>\n",
       "      <td>5.000000</td>\n",
       "      <td>5.000000</td>\n",
       "      <td>5.000000</td>\n",
       "      <td>5.000000</td>\n",
       "      <td>5.000000</td>\n",
       "      <td>5.000000</td>\n",
       "      <td>5.000000</td>\n",
       "    </tr>\n",
       "    <tr>\n",
       "      <th>mean</th>\n",
       "      <td>339.200000</td>\n",
       "      <td>0.220563</td>\n",
       "      <td>0.887843</td>\n",
       "      <td>0.146236</td>\n",
       "      <td>0.079179</td>\n",
       "      <td>0.957143</td>\n",
       "      <td>0.814668</td>\n",
       "      <td>2.774084</td>\n",
       "      <td>0.212816</td>\n",
       "    </tr>\n",
       "    <tr>\n",
       "      <th>std</th>\n",
       "      <td>18.130085</td>\n",
       "      <td>0.010464</td>\n",
       "      <td>0.010434</td>\n",
       "      <td>0.007234</td>\n",
       "      <td>0.004204</td>\n",
       "      <td>0.015972</td>\n",
       "      <td>0.011943</td>\n",
       "      <td>0.147283</td>\n",
       "      <td>0.021740</td>\n",
       "    </tr>\n",
       "    <tr>\n",
       "      <th>min</th>\n",
       "      <td>321.000000</td>\n",
       "      <td>0.208110</td>\n",
       "      <td>0.877530</td>\n",
       "      <td>0.136020</td>\n",
       "      <td>0.073171</td>\n",
       "      <td>0.928571</td>\n",
       "      <td>0.801641</td>\n",
       "      <td>2.563589</td>\n",
       "      <td>0.192467</td>\n",
       "    </tr>\n",
       "    <tr>\n",
       "      <th>25%</th>\n",
       "      <td>330.000000</td>\n",
       "      <td>0.211688</td>\n",
       "      <td>0.880827</td>\n",
       "      <td>0.142857</td>\n",
       "      <td>0.077381</td>\n",
       "      <td>0.964286</td>\n",
       "      <td>0.802709</td>\n",
       "      <td>2.711097</td>\n",
       "      <td>0.198294</td>\n",
       "    </tr>\n",
       "    <tr>\n",
       "      <th>50%</th>\n",
       "      <td>336.000000</td>\n",
       "      <td>0.222490</td>\n",
       "      <td>0.883807</td>\n",
       "      <td>0.146739</td>\n",
       "      <td>0.079412</td>\n",
       "      <td>0.964286</td>\n",
       "      <td>0.817925</td>\n",
       "      <td>2.782248</td>\n",
       "      <td>0.207326</td>\n",
       "    </tr>\n",
       "    <tr>\n",
       "      <th>75%</th>\n",
       "      <td>340.000000</td>\n",
       "      <td>0.227793</td>\n",
       "      <td>0.894319</td>\n",
       "      <td>0.150838</td>\n",
       "      <td>0.081818</td>\n",
       "      <td>0.964286</td>\n",
       "      <td>0.823171</td>\n",
       "      <td>2.866558</td>\n",
       "      <td>0.218489</td>\n",
       "    </tr>\n",
       "    <tr>\n",
       "      <th>max</th>\n",
       "      <td>369.000000</td>\n",
       "      <td>0.232736</td>\n",
       "      <td>0.902732</td>\n",
       "      <td>0.154728</td>\n",
       "      <td>0.084112</td>\n",
       "      <td>0.964286</td>\n",
       "      <td>0.827893</td>\n",
       "      <td>2.946929</td>\n",
       "      <td>0.247502</td>\n",
       "    </tr>\n",
       "  </tbody>\n",
       "</table></div><div style=\"margin-right: 2em\"><table border=\"1\" class=\"dataframe\">\n",
       "  <thead>\n",
       "    <tr style=\"text-align: right;\">\n",
       "      <th></th>\n",
       "      <th>positive</th>\n",
       "      <th>mcc</th>\n",
       "      <th>roc_auc</th>\n",
       "      <th>f1</th>\n",
       "      <th>precision</th>\n",
       "      <th>recall</th>\n",
       "      <th>bacc</th>\n",
       "      <th>ef</th>\n",
       "      <th>pr_auc</th>\n",
       "    </tr>\n",
       "  </thead>\n",
       "  <tbody>\n",
       "    <tr>\n",
       "      <th>count</th>\n",
       "      <td>5.000000</td>\n",
       "      <td>5.000000</td>\n",
       "      <td>5.000000</td>\n",
       "      <td>5.000000</td>\n",
       "      <td>5.000000</td>\n",
       "      <td>5.000000</td>\n",
       "      <td>5.000000</td>\n",
       "      <td>5.000000</td>\n",
       "      <td>5.000000</td>\n",
       "    </tr>\n",
       "    <tr>\n",
       "      <th>mean</th>\n",
       "      <td>390.400000</td>\n",
       "      <td>0.109286</td>\n",
       "      <td>0.798915</td>\n",
       "      <td>0.061358</td>\n",
       "      <td>0.031867</td>\n",
       "      <td>0.826667</td>\n",
       "      <td>0.717478</td>\n",
       "      <td>2.081973</td>\n",
       "      <td>0.074279</td>\n",
       "    </tr>\n",
       "    <tr>\n",
       "      <th>std</th>\n",
       "      <td>28.130055</td>\n",
       "      <td>0.009806</td>\n",
       "      <td>0.018075</td>\n",
       "      <td>0.004071</td>\n",
       "      <td>0.002190</td>\n",
       "      <td>0.036515</td>\n",
       "      <td>0.018309</td>\n",
       "      <td>0.143095</td>\n",
       "      <td>0.023350</td>\n",
       "    </tr>\n",
       "    <tr>\n",
       "      <th>min</th>\n",
       "      <td>345.000000</td>\n",
       "      <td>0.095008</td>\n",
       "      <td>0.774335</td>\n",
       "      <td>0.055814</td>\n",
       "      <td>0.028916</td>\n",
       "      <td>0.800000</td>\n",
       "      <td>0.691192</td>\n",
       "      <td>1.889157</td>\n",
       "      <td>0.050546</td>\n",
       "    </tr>\n",
       "    <tr>\n",
       "      <th>25%</th>\n",
       "      <td>386.000000</td>\n",
       "      <td>0.103628</td>\n",
       "      <td>0.787599</td>\n",
       "      <td>0.059850</td>\n",
       "      <td>0.031088</td>\n",
       "      <td>0.800000</td>\n",
       "      <td>0.706218</td>\n",
       "      <td>2.031088</td>\n",
       "      <td>0.053377</td>\n",
       "    </tr>\n",
       "    <tr>\n",
       "      <th>50%</th>\n",
       "      <td>394.000000</td>\n",
       "      <td>0.112712</td>\n",
       "      <td>0.801554</td>\n",
       "      <td>0.060890</td>\n",
       "      <td>0.031553</td>\n",
       "      <td>0.800000</td>\n",
       "      <td>0.726598</td>\n",
       "      <td>2.061489</td>\n",
       "      <td>0.071133</td>\n",
       "    </tr>\n",
       "    <tr>\n",
       "      <th>75%</th>\n",
       "      <td>412.000000</td>\n",
       "      <td>0.116936</td>\n",
       "      <td>0.812850</td>\n",
       "      <td>0.063570</td>\n",
       "      <td>0.032995</td>\n",
       "      <td>0.866667</td>\n",
       "      <td>0.727461</td>\n",
       "      <td>2.155668</td>\n",
       "      <td>0.094331</td>\n",
       "    </tr>\n",
       "    <tr>\n",
       "      <th>max</th>\n",
       "      <td>415.000000</td>\n",
       "      <td>0.118145</td>\n",
       "      <td>0.818238</td>\n",
       "      <td>0.066667</td>\n",
       "      <td>0.034783</td>\n",
       "      <td>0.866667</td>\n",
       "      <td>0.735924</td>\n",
       "      <td>2.272464</td>\n",
       "      <td>0.102006</td>\n",
       "    </tr>\n",
       "  </tbody>\n",
       "</table></div><div style=\"margin-right: 2em\"><table border=\"1\" class=\"dataframe\">\n",
       "  <thead>\n",
       "    <tr style=\"text-align: right;\">\n",
       "      <th></th>\n",
       "      <th>positive</th>\n",
       "      <th>mcc</th>\n",
       "      <th>roc_auc</th>\n",
       "      <th>f1</th>\n",
       "      <th>precision</th>\n",
       "      <th>recall</th>\n",
       "      <th>bacc</th>\n",
       "      <th>ef</th>\n",
       "      <th>pr_auc</th>\n",
       "    </tr>\n",
       "  </thead>\n",
       "  <tbody>\n",
       "    <tr>\n",
       "      <th>count</th>\n",
       "      <td>5.000000</td>\n",
       "      <td>5.000000</td>\n",
       "      <td>5.000000</td>\n",
       "      <td>5.000000</td>\n",
       "      <td>5.000000</td>\n",
       "      <td>5.000000</td>\n",
       "      <td>5.000000</td>\n",
       "      <td>5.000000</td>\n",
       "      <td>5.000000</td>\n",
       "    </tr>\n",
       "    <tr>\n",
       "      <th>mean</th>\n",
       "      <td>310.800000</td>\n",
       "      <td>0.396037</td>\n",
       "      <td>0.800902</td>\n",
       "      <td>0.534576</td>\n",
       "      <td>0.437604</td>\n",
       "      <td>0.686869</td>\n",
       "      <td>0.729036</td>\n",
       "      <td>2.126134</td>\n",
       "      <td>0.525991</td>\n",
       "    </tr>\n",
       "    <tr>\n",
       "      <th>std</th>\n",
       "      <td>5.540758</td>\n",
       "      <td>0.019472</td>\n",
       "      <td>0.003591</td>\n",
       "      <td>0.013912</td>\n",
       "      <td>0.011379</td>\n",
       "      <td>0.020202</td>\n",
       "      <td>0.011455</td>\n",
       "      <td>0.055287</td>\n",
       "      <td>0.003488</td>\n",
       "    </tr>\n",
       "    <tr>\n",
       "      <th>min</th>\n",
       "      <td>304.000000</td>\n",
       "      <td>0.374040</td>\n",
       "      <td>0.797795</td>\n",
       "      <td>0.518812</td>\n",
       "      <td>0.424528</td>\n",
       "      <td>0.661616</td>\n",
       "      <td>0.715625</td>\n",
       "      <td>2.062607</td>\n",
       "      <td>0.521141</td>\n",
       "    </tr>\n",
       "    <tr>\n",
       "      <th>25%</th>\n",
       "      <td>307.000000</td>\n",
       "      <td>0.380128</td>\n",
       "      <td>0.798459</td>\n",
       "      <td>0.523256</td>\n",
       "      <td>0.426710</td>\n",
       "      <td>0.676768</td>\n",
       "      <td>0.721145</td>\n",
       "      <td>2.073208</td>\n",
       "      <td>0.523747</td>\n",
       "    </tr>\n",
       "    <tr>\n",
       "      <th>50%</th>\n",
       "      <td>311.000000</td>\n",
       "      <td>0.395029</td>\n",
       "      <td>0.798942</td>\n",
       "      <td>0.533865</td>\n",
       "      <td>0.440789</td>\n",
       "      <td>0.681818</td>\n",
       "      <td>0.727127</td>\n",
       "      <td>2.141614</td>\n",
       "      <td>0.526863</td>\n",
       "    </tr>\n",
       "    <tr>\n",
       "      <th>75%</th>\n",
       "      <td>314.000000</td>\n",
       "      <td>0.412217</td>\n",
       "      <td>0.803258</td>\n",
       "      <td>0.546169</td>\n",
       "      <td>0.446945</td>\n",
       "      <td>0.702020</td>\n",
       "      <td>0.738445</td>\n",
       "      <td>2.171522</td>\n",
       "      <td>0.529063</td>\n",
       "    </tr>\n",
       "    <tr>\n",
       "      <th>max</th>\n",
       "      <td>318.000000</td>\n",
       "      <td>0.418773</td>\n",
       "      <td>0.806055</td>\n",
       "      <td>0.550781</td>\n",
       "      <td>0.449045</td>\n",
       "      <td>0.712121</td>\n",
       "      <td>0.742841</td>\n",
       "      <td>2.181722</td>\n",
       "      <td>0.529141</td>\n",
       "    </tr>\n",
       "  </tbody>\n",
       "</table></div><div style=\"margin-right: 2em\"><table border=\"1\" class=\"dataframe\">\n",
       "  <thead>\n",
       "    <tr style=\"text-align: right;\">\n",
       "      <th></th>\n",
       "      <th>positive</th>\n",
       "      <th>mcc</th>\n",
       "      <th>roc_auc</th>\n",
       "      <th>f1</th>\n",
       "      <th>precision</th>\n",
       "      <th>recall</th>\n",
       "      <th>bacc</th>\n",
       "      <th>ef</th>\n",
       "      <th>pr_auc</th>\n",
       "    </tr>\n",
       "  </thead>\n",
       "  <tbody>\n",
       "    <tr>\n",
       "      <th>count</th>\n",
       "      <td>5.000000</td>\n",
       "      <td>5.000000</td>\n",
       "      <td>5.000000</td>\n",
       "      <td>5.000000</td>\n",
       "      <td>5.000000</td>\n",
       "      <td>5.000000</td>\n",
       "      <td>5.000000</td>\n",
       "      <td>5.000000</td>\n",
       "      <td>5.000000</td>\n",
       "    </tr>\n",
       "    <tr>\n",
       "      <th>mean</th>\n",
       "      <td>321.800000</td>\n",
       "      <td>0.115818</td>\n",
       "      <td>0.733622</td>\n",
       "      <td>0.106002</td>\n",
       "      <td>0.057781</td>\n",
       "      <td>0.641379</td>\n",
       "      <td>0.660266</td>\n",
       "      <td>1.940640</td>\n",
       "      <td>0.096087</td>\n",
       "    </tr>\n",
       "    <tr>\n",
       "      <th>std</th>\n",
       "      <td>12.377399</td>\n",
       "      <td>0.013862</td>\n",
       "      <td>0.008852</td>\n",
       "      <td>0.005739</td>\n",
       "      <td>0.003086</td>\n",
       "      <td>0.046263</td>\n",
       "      <td>0.019923</td>\n",
       "      <td>0.103650</td>\n",
       "      <td>0.006132</td>\n",
       "    </tr>\n",
       "    <tr>\n",
       "      <th>min</th>\n",
       "      <td>305.000000</td>\n",
       "      <td>0.099351</td>\n",
       "      <td>0.722423</td>\n",
       "      <td>0.099415</td>\n",
       "      <td>0.054313</td>\n",
       "      <td>0.586207</td>\n",
       "      <td>0.636490</td>\n",
       "      <td>1.824171</td>\n",
       "      <td>0.088780</td>\n",
       "    </tr>\n",
       "    <tr>\n",
       "      <th>25%</th>\n",
       "      <td>313.000000</td>\n",
       "      <td>0.104787</td>\n",
       "      <td>0.726856</td>\n",
       "      <td>0.100559</td>\n",
       "      <td>0.054711</td>\n",
       "      <td>0.620690</td>\n",
       "      <td>0.645795</td>\n",
       "      <td>1.837543</td>\n",
       "      <td>0.092484</td>\n",
       "    </tr>\n",
       "    <tr>\n",
       "      <th>50%</th>\n",
       "      <td>327.000000</td>\n",
       "      <td>0.116169</td>\n",
       "      <td>0.736398</td>\n",
       "      <td>0.107784</td>\n",
       "      <td>0.059016</td>\n",
       "      <td>0.620690</td>\n",
       "      <td>0.658493</td>\n",
       "      <td>1.982137</td>\n",
       "      <td>0.094349</td>\n",
       "    </tr>\n",
       "    <tr>\n",
       "      <th>75%</th>\n",
       "      <td>329.000000</td>\n",
       "      <td>0.127492</td>\n",
       "      <td>0.738113</td>\n",
       "      <td>0.109890</td>\n",
       "      <td>0.059701</td>\n",
       "      <td>0.689655</td>\n",
       "      <td>0.678161</td>\n",
       "      <td>2.005147</td>\n",
       "      <td>0.101693</td>\n",
       "    </tr>\n",
       "    <tr>\n",
       "      <th>max</th>\n",
       "      <td>335.000000</td>\n",
       "      <td>0.131289</td>\n",
       "      <td>0.744317</td>\n",
       "      <td>0.112360</td>\n",
       "      <td>0.061162</td>\n",
       "      <td>0.689655</td>\n",
       "      <td>0.682394</td>\n",
       "      <td>2.054202</td>\n",
       "      <td>0.103129</td>\n",
       "    </tr>\n",
       "  </tbody>\n",
       "</table></div></div>"
      ],
      "text/plain": [
       "<IPython.core.display.HTML object>"
      ]
     },
     "metadata": {},
     "output_type": "display_data"
    }
   ],
   "source": [
    "side_by_side(teacher_dict[\"fluc\"].describe(), teacher_dict[\"nluc\"].describe(), teacher_dict[\"thiol\"].describe(), teacher_dict[\"redox\"].describe())"
   ]
  },
  {
   "cell_type": "code",
   "execution_count": null,
   "metadata": {},
   "outputs": [],
   "source": []
  },
  {
   "cell_type": "markdown",
   "metadata": {},
   "source": [
    "### Load retrained models and recompute the test set performance"
   ]
  },
  {
   "cell_type": "code",
   "execution_count": 15,
   "metadata": {},
   "outputs": [],
   "source": [
    "def compute_retrained_performances(task, sampling, iter, version):\n",
    "    # Load the trained model\n",
    "    performances = {i: None for i in range(1, iter+1)}\n",
    "    for i in range(iter):\n",
    "        model_path = f\"../../FtF4/RUN_REINVENT/v{version}/{sampling}/{task}/{task}_{i+1}.pkl\"\n",
    "\n",
    "        #if f\"{task}_{i+1}.pkl\" in os.listdir(f\"../../FtF4/RUN_REINVENT/v{version}/{sampling}/{task}/\"):\n",
    "        with open(model_path, \"rb\") as f:\n",
    "            model = pickle.load(f)\n",
    "\n",
    "        # Predict the test set\n",
    "        test_preds = model.predict_proba(test_dict[task][0])\n",
    "        test_labels = test_dict[task][1]\n",
    "\n",
    "        test_preds = test_preds[:, 1]\n",
    "        test_preds_binary = (test_preds > 0.5).astype(int)\n",
    "            \n",
    "        tmp_performances = {\n",
    "                        \"positive\": np.sum(test_preds_binary),\n",
    "                        \"mcc\": matthews_corrcoef(test_labels, test_preds_binary),\n",
    "                        \"roc_auc\": roc_auc_score(test_labels, test_preds),\n",
    "                        \"f1\": f1_score(test_labels, test_preds_binary),\n",
    "                        \"precision\": precision_score(test_labels, test_preds_binary),\n",
    "                        \"recall\": recall_score(test_labels, test_preds_binary),\n",
    "                        \"bacc\": balanced_accuracy_score(test_labels, test_preds_binary),\n",
    "                        \"ef\": ef(test_labels, test_preds_binary)\n",
    "                        }\n",
    "\n",
    "        tmp_performances[\"pr_auc\"] = average_precision_score(test_labels, test_preds)\n",
    "        \n",
    "        performances[i+1] = tmp_performances\n",
    "\n",
    "    df = pd.DataFrame.from_dict(performances)\n",
    "\n",
    "    return df"
   ]
  },
  {
   "cell_type": "code",
   "execution_count": 16,
   "metadata": {},
   "outputs": [],
   "source": [
    "map_keys = {\"fluc\": \"FI\", \"nluc\": \"NI\", \"redox\": \"RR\", \"thiol\": \"TR\"}\n",
    "map_acq = {\"random\":\"Random\", \"greedy\": \"Greedy\",  \"epig\": \"EPIG\", \"greedyskill\": \"GreedySkill\", \"epigskill\":\"EPIGSkill\"}"
   ]
  },
  {
   "cell_type": "code",
   "execution_count": 17,
   "metadata": {},
   "outputs": [],
   "source": [
    "def compute_performace_df(task, version, metric):\n",
    "    # Compute performances for each iteration\n",
    "    mcc = {map_acq[i]: None for i in [\"random\", \"greedy\",  \"epig\", \"greedyskill\", \"epigskill\"]}\n",
    "    for i in [\"random\", \"greedy\",  \"epig\", \"greedyskill\", \"epigskill\"]:\n",
    "        df = compute_retrained_performances(task, i, 10, version).T\n",
    "        df = df.reset_index()\n",
    "\n",
    "        mcc[map_acq[i]] = df[metric].values\n",
    "\n",
    "    df = pd.DataFrame(mcc)\n",
    "\n",
    "    return df"
   ]
  },
  {
   "cell_type": "code",
   "execution_count": 18,
   "metadata": {},
   "outputs": [],
   "source": [
    "metric = \"ef\""
   ]
  },
  {
   "cell_type": "code",
   "execution_count": 19,
   "metadata": {},
   "outputs": [
    {
     "name": "stdout",
     "output_type": "stream",
     "text": [
      "\n",
      "fluc\n"
     ]
    },
    {
     "data": {
      "application/vnd.jupyter.widget-view+json": {
       "model_id": "7c6bbb5821c94fdea57d846c076dc7c7",
       "version_major": 2,
       "version_minor": 0
      },
      "text/plain": [
       "  0%|          | 0/5 [00:00<?, ?it/s]"
      ]
     },
     "metadata": {},
     "output_type": "display_data"
    },
    {
     "name": "stdout",
     "output_type": "stream",
     "text": [
      "\n",
      "nluc\n"
     ]
    },
    {
     "data": {
      "application/vnd.jupyter.widget-view+json": {
       "model_id": "ed3ff0d622ce47a089e3c54e91a03429",
       "version_major": 2,
       "version_minor": 0
      },
      "text/plain": [
       "  0%|          | 0/5 [00:00<?, ?it/s]"
      ]
     },
     "metadata": {},
     "output_type": "display_data"
    },
    {
     "name": "stdout",
     "output_type": "stream",
     "text": [
      "\n",
      "thiol\n"
     ]
    },
    {
     "data": {
      "application/vnd.jupyter.widget-view+json": {
       "model_id": "1022f150f6cc40ca9b799d6d86c66a7e",
       "version_major": 2,
       "version_minor": 0
      },
      "text/plain": [
       "  0%|          | 0/5 [00:00<?, ?it/s]"
      ]
     },
     "metadata": {},
     "output_type": "display_data"
    },
    {
     "name": "stdout",
     "output_type": "stream",
     "text": [
      "\n",
      "redox\n"
     ]
    },
    {
     "data": {
      "application/vnd.jupyter.widget-view+json": {
       "model_id": "88b959a773b04ada9bb5557addf811a2",
       "version_major": 2,
       "version_minor": 0
      },
      "text/plain": [
       "  0%|          | 0/5 [00:00<?, ?it/s]"
      ]
     },
     "metadata": {},
     "output_type": "display_data"
    }
   ],
   "source": [
    "performances_dict = {i: None for i in tasks}\n",
    "for task in tasks:\n",
    "    print(f\"\\n{task}\")\n",
    "    mcc_across_versions = {i: None for i in range(1, 6)}\n",
    "    for i in tqdm(range(1, 6)):\n",
    "        try:\n",
    "            df = compute_performace_df(task, i, metric)\n",
    "        except:\n",
    "            print(f\"Version {i} failed\")\n",
    "        df[\"Iteration\"] = [str(j +1) for j in df.index]\n",
    "        mcc_across_versions[i] = df.dropna(axis=0)\n",
    "\n",
    "    # Combine the DataFrames\n",
    "    df_combined = pd.concat([i for i in mcc_across_versions.values()])\n",
    "    df_melted = pd.melt(df_combined, id_vars=\"Iteration\", var_name=\"Acquisition\\nfunction\", value_name=\"MCC\")\n",
    "\n",
    "    performances_dict[task] = df_melted"
   ]
  },
  {
   "cell_type": "code",
   "execution_count": 20,
   "metadata": {},
   "outputs": [],
   "source": [
    "palette = [\"#808080\", \"#ee82ee\", \"#FFA500\", \"#7741f7\", \"#805380\"]"
   ]
  },
  {
   "cell_type": "code",
   "execution_count": 21,
   "metadata": {},
   "outputs": [],
   "source": [
    "map_keys = {\"fluc\": \"FI\", \"nluc\": \"NI\", \"redox\": \"RR\", \"thiol\": \"TR\"}"
   ]
  },
  {
   "cell_type": "code",
   "execution_count": 23,
   "metadata": {},
   "outputs": [
    {
     "data": {
      "image/png": "[encoded data removed]",
      "text/plain": [
       "<Figure size 1600x900 with 4 Axes>"
      ]
     },
     "metadata": {},
     "output_type": "display_data"
    }
   ],
   "source": [
    "fig, axes = plt.subplots(2, 2, figsize=(16, 9), sharey=True, sharex=True)\n",
    "for i, (task, df) in enumerate(performances_dict.items()):\n",
    "    x = int(i/2)\n",
    "    y = i % 2\n",
    "    axes[x][y].axhline(y=teacher_dict[task][metric].mean(), color='r', linestyle='--', label=\"Initial score\")\n",
    "    # boxplot with log scale\n",
    "    sns.boxplot(x=\"Iteration\", y=f\"MCC\", hue=\"Acquisition\\nfunction\", data=df, palette=palette, dodge=True, orient=\"v\", width=0.5, linewidth=0.5, ax=axes[x][y], legend=True, showfliers=False)\n",
    "    axes[x][y].set_yscale(\"log\")\n",
    "    # Plot horizontal line at teacher mean\n",
    "    axes[x][y].set_title(f\"{map_keys[task]}\")\n",
    "    axes[x][y].set_ylabel(metric.upper())\n",
    "    axes[x][y].legend_.remove()\n",
    "# Create shared legend\n",
    "handles, labels = axes[0][0].get_legend_handles_labels()\n",
    "legend = fig.legend(\n",
    "    handles, \n",
    "    labels, \n",
    "    title=\"Sampling strategy\", \n",
    "    bbox_to_anchor=(0.5, 1.08), \n",
    "    loc='upper center', \n",
    "    ncol=6, \n",
    "    fontsize=12,\n",
    ")\n",
    "\n",
    "for text in legend.get_texts():\n",
    "    text.set_bbox(dict(facecolor='none', edgecolor='none'))  # Remove rectangle around label text\n",
    "\n",
    "plt.tight_layout()\n",
    "plt.show()"
   ]
  },
  {
   "cell_type": "raw",
   "metadata": {
    "vscode": {
     "languageId": "raw"
    }
   },
   "source": [
    "plt.figure(figsize=(16, 9))\n",
    "\n",
    "sns.stripplot(\n",
    "    x=\"MCC\", y=\"Iteration\", hue=\"Acquisition\\nfunction\",\n",
    "    data=df_melted, marker=\"D\", palette=palette, dodge=False,\n",
    "    jitter=True, alpha=1, edgecolor=\"k\", linewidth=0.5\n",
    ")\n",
    "\n",
    "# Add horizontal line\n",
    "plt.axvline(x=teacher_mcc_mean, color='r', linestyle='--')\n",
    "\n",
    "# Customize legend\n",
    "plt.legend(title='Acquisition Function', bbox_to_anchor=(1., 1), loc='upper left')\n",
    "\n",
    "# Stretch the y-axis range to increase spacing\n",
    "\n",
    "plt.ylabel(\"Iteration\")\n",
    "plt.tight_layout()  # Adjust layout\n",
    "plt.show()"
   ]
  },
  {
   "cell_type": "code",
   "execution_count": null,
   "metadata": {},
   "outputs": [
    {
     "name": "stderr",
     "output_type": "stream",
     "text": [
      "/tmp/ipykernel_3815/494959933.py:4: UserWarning: The palette list has more values (6) than needed (5), which may not be intended.\n",
      "  sns.boxplot(x=\"Iteration\", y=\"MCC\", hue=\"Acquisition\\nfunction\", data=df_melted, palette=palette, dodge=True, orient=\"v\", width=0.5)\n"
     ]
    },
    {
     "data": {
      "text/plain": [
       "Text(0, 0.5, 'MCC')"
      ]
     },
     "execution_count": 155,
     "metadata": {},
     "output_type": "execute_result"
    },
    {
     "data": {
      "image/png": "[encoded data removed]",
      "text/plain": [
       "<Figure size 1600x900 with 1 Axes>"
      ]
     },
     "metadata": {},
     "output_type": "display_data"
    }
   ],
   "source": [
    "plt.figure(figsize=(16, 9))\n",
    "# sns.barplot(x=\"Iteration\", y=\"MCC\", hue=\"Acquisition\\nfunction\", data=df_melted, palette=palette,\n",
    "#              errorbar=\"se\", err_kws={'linewidth': 1.0}, capsize=0.2, linewidth=1.0,  edgecolor=\"k\")\n",
    "sns.boxplot(x=\"Iteration\", y=\"MCC\", hue=\"Acquisition\\nfunction\", data=df_melted, palette=palette, dodge=True, orient=\"v\", width=0.5)\n",
    "# add horizontal line for the original model\n",
    "plt.axhline(y=teacher_mcc_mean, color='r', linestyle='--');\n",
    "# plt.axhline(y=teacher_mcc_mean + teacher_mcc_std, color='r', linestyle='--');\n",
    "\n",
    "plt.legend(title='Acquisition Function', bbox_to_anchor=(1., 1), loc='upper left')\n",
    "plt.ylabel(f\"{metric.upper()}\")\n",
    "# set y-axis limits\n",
    "#plt.ylim(0, 0.5)"
   ]
  },
  {
   "cell_type": "code",
   "execution_count": 80,
   "metadata": {},
   "outputs": [],
   "source": [
    "# plt.figure(figsize=(16, 9))\n",
    "# # # Plot using seaborn\n",
    "# sns.violinplot(x=\"Iteration\", y=\"MCC\", hue=\"Acquisition\\nfunction\", data=df_melted, palette=palette, linewidth=1.0, edgecolor=\"k\")\n",
    "\n",
    "\n",
    "# # add ylim\n",
    "# plt.ylim(0, 1)\n",
    "\n",
    "# # Add labels and title\n",
    "# plt.xlabel('Iteration', fontsize=15)\n",
    "# plt.ylabel(f'{metric.upper()}', fontsize=15)\n",
    "# plt.title('\\nBoxplot of Values Across Categories and Iterations\\n', fontsize=15)\n",
    "\n",
    "# # add horizontal line for the original model\n",
    "# plt.axhline(y=teacher_mcc_mean, color='r', linestyle='-');\n",
    "# plt.axhline(y=teacher_mcc_mean + teacher_mcc_std, color='r', linestyle='--');\n",
    "\n",
    "# # Show the plot\n",
    "# plt.show()"
   ]
  },
  {
   "cell_type": "markdown",
   "metadata": {},
   "source": [
    "#### Compute MCC using averaged predictions across versions"
   ]
  },
  {
   "cell_type": "code",
   "execution_count": 81,
   "metadata": {},
   "outputs": [],
   "source": [
    "def compute_retrained_predictions(task, sampling, iter, version):\n",
    "    # Load the trained model\n",
    "    predictions = {i: None for i in range(1, iter+1)}\n",
    "    for i in range(iter):\n",
    "        model_path = f\"../../FtF4/RUN_REINVENT/v{version}/{sampling}/{task}/{task}_{i+1}.pkl\"\n",
    "\n",
    "        if f\"{task}_{i+1}.pkl\" in os.listdir(f\"../../FtF4/RUN_REINVENT/v{version}/{sampling}/{task}/\"):\n",
    "            with open(model_path, \"rb\") as f:\n",
    "                model = pickle.load(f)\n",
    "\n",
    "            # Predict the test set\n",
    "            test_preds = model.predict_proba(test_fps)[:,1]\n",
    "\n",
    "            predictions[i+1] = test_preds\n",
    "\n",
    "    return predictions"
   ]
  },
  {
   "cell_type": "code",
   "execution_count": 82,
   "metadata": {},
   "outputs": [],
   "source": [
    "# Compute the predictions and average across repeats\n",
    "def compute_ensembled_performances(sampling, metric):\n",
    "    predictions_dict = {}\n",
    "    for i in range(1, 6):\n",
    "        predictions = compute_retrained_predictions(task, sampling, 10, i)\n",
    "        predictions_dict[i] = predictions_dict.get(i, predictions)\n",
    "\n",
    "    # Compute the average predictions across versions\n",
    "    performances = {i: None for i in range(1, 11)}\n",
    "    for i in performances.keys():\n",
    "        # compute average predictions for the current iteration i for all the versions j\n",
    "        arr = []\n",
    "        for j in predictions_dict.keys():\n",
    "            p = np.array(predictions_dict[j][i])\n",
    "            if len(p.shape) == 1:\n",
    "                arr.append(p)\n",
    "        # average across columns\n",
    "        test_preds = np.max(arr, axis=0)\n",
    "        test_preds_binary = (test_preds >= 0.5).astype(int)\n",
    "        # compute the performances\n",
    "        tmp_performances = {\n",
    "                    \"positive\": np.sum(test_preds_binary),\n",
    "                    \"mcc\": matthews_corrcoef(test_labels, test_preds_binary),\n",
    "                    \"roc_auc\": roc_auc_score(test_labels, test_preds),\n",
    "                    \"f1\": f1_score(test_labels, test_preds_binary),\n",
    "                    \"precision\": precision_score(test_labels, test_preds_binary),\n",
    "                    \"recall\": recall_score(test_labels, test_preds_binary),\n",
    "                    \"bacc\": balanced_accuracy_score(test_labels, test_preds_binary),\n",
    "                    }\n",
    "\n",
    "        tmp_performances[\"pr_auc\"] = average_precision_score(test_labels, test_preds)\n",
    "                \n",
    "        performances[i] = tmp_performances[metric]\n",
    "\n",
    "    return pd.DataFrame.from_dict(performances, orient=\"index\", columns=[metric])"
   ]
  },
  {
   "cell_type": "code",
   "execution_count": 83,
   "metadata": {},
   "outputs": [],
   "source": [
    "sampling_methods = [\"random\", \"greedy\",  \"epig\", \"molskill\", \"greedy + molskill\", \"epig + molskill\", ]\n",
    "mcc_across_versions = {i: None for i in sampling_methods}\n",
    "for idx, i in enumerate(mcc_across_versions.keys()):\n",
    "    if i == \"greedy + molskill\":\n",
    "        j = \"greedyskill\"\n",
    "    elif i == \"epig + molskill\":\n",
    "        j = \"epigskill\"\n",
    "    else:\n",
    "        j = i\n",
    "    try:\n",
    "        df = compute_ensembled_performances(j, metric)\n",
    "    except:\n",
    "        df = mcc_across_versions[sampling_methods[idx-1]]\n",
    "    df[\"Iteration\"] = [str(k) for k in df.index]\n",
    "    mcc_across_versions[i] = df"
   ]
  },
  {
   "cell_type": "code",
   "execution_count": 84,
   "metadata": {},
   "outputs": [],
   "source": [
    "performances = pd.concat([i.drop(\"Iteration\", axis=1) for i in mcc_across_versions.values()], axis=1)\n",
    "performances.columns = sampling_methods"
   ]
  },
  {
   "cell_type": "code",
   "execution_count": 85,
   "metadata": {},
   "outputs": [
    {
     "data": {
      "text/html": [
       "<div>\n",
       "<style scoped>\n",
       "    .dataframe tbody tr th:only-of-type {\n",
       "        vertical-align: middle;\n",
       "    }\n",
       "\n",
       "    .dataframe tbody tr th {\n",
       "        vertical-align: top;\n",
       "    }\n",
       "\n",
       "    .dataframe thead th {\n",
       "        text-align: right;\n",
       "    }\n",
       "</style>\n",
       "<table border=\"1\" class=\"dataframe\">\n",
       "  <thead>\n",
       "    <tr style=\"text-align: right;\">\n",
       "      <th></th>\n",
       "      <th>random</th>\n",
       "      <th>greedy</th>\n",
       "      <th>epig</th>\n",
       "      <th>molskill</th>\n",
       "      <th>greedy + molskill</th>\n",
       "      <th>epig + molskill</th>\n",
       "    </tr>\n",
       "  </thead>\n",
       "  <tbody>\n",
       "    <tr>\n",
       "      <th>1</th>\n",
       "      <td>0.156997</td>\n",
       "      <td>0.202020</td>\n",
       "      <td>0.216216</td>\n",
       "      <td>0.164794</td>\n",
       "      <td>0.266667</td>\n",
       "      <td>0.212389</td>\n",
       "    </tr>\n",
       "    <tr>\n",
       "      <th>2</th>\n",
       "      <td>0.152091</td>\n",
       "      <td>0.253521</td>\n",
       "      <td>0.219512</td>\n",
       "      <td>0.155963</td>\n",
       "      <td>0.200000</td>\n",
       "      <td>0.220183</td>\n",
       "    </tr>\n",
       "    <tr>\n",
       "      <th>3</th>\n",
       "      <td>0.151111</td>\n",
       "      <td>0.237288</td>\n",
       "      <td>0.210526</td>\n",
       "      <td>0.169312</td>\n",
       "      <td>0.222222</td>\n",
       "      <td>0.224299</td>\n",
       "    </tr>\n",
       "    <tr>\n",
       "      <th>4</th>\n",
       "      <td>0.167539</td>\n",
       "      <td>0.264151</td>\n",
       "      <td>0.215385</td>\n",
       "      <td>0.173410</td>\n",
       "      <td>0.253968</td>\n",
       "      <td>0.235294</td>\n",
       "    </tr>\n",
       "    <tr>\n",
       "      <th>5</th>\n",
       "      <td>0.169492</td>\n",
       "      <td>0.255319</td>\n",
       "      <td>0.190476</td>\n",
       "      <td>0.169697</td>\n",
       "      <td>0.264151</td>\n",
       "      <td>0.250000</td>\n",
       "    </tr>\n",
       "    <tr>\n",
       "      <th>6</th>\n",
       "      <td>0.191083</td>\n",
       "      <td>0.272727</td>\n",
       "      <td>0.196721</td>\n",
       "      <td>0.184211</td>\n",
       "      <td>0.235294</td>\n",
       "      <td>0.263736</td>\n",
       "    </tr>\n",
       "    <tr>\n",
       "      <th>7</th>\n",
       "      <td>0.194444</td>\n",
       "      <td>0.243902</td>\n",
       "      <td>0.190476</td>\n",
       "      <td>0.187919</td>\n",
       "      <td>0.200000</td>\n",
       "      <td>0.272727</td>\n",
       "    </tr>\n",
       "    <tr>\n",
       "      <th>8</th>\n",
       "      <td>0.184615</td>\n",
       "      <td>0.205128</td>\n",
       "      <td>0.233333</td>\n",
       "      <td>0.171429</td>\n",
       "      <td>0.244898</td>\n",
       "      <td>0.268293</td>\n",
       "    </tr>\n",
       "    <tr>\n",
       "      <th>9</th>\n",
       "      <td>0.176000</td>\n",
       "      <td>0.205128</td>\n",
       "      <td>0.178571</td>\n",
       "      <td>0.185714</td>\n",
       "      <td>0.217391</td>\n",
       "      <td>0.275000</td>\n",
       "    </tr>\n",
       "    <tr>\n",
       "      <th>10</th>\n",
       "      <td>0.222222</td>\n",
       "      <td>0.205128</td>\n",
       "      <td>0.210526</td>\n",
       "      <td>0.165414</td>\n",
       "      <td>0.232558</td>\n",
       "      <td>0.256410</td>\n",
       "    </tr>\n",
       "  </tbody>\n",
       "</table>\n",
       "</div>"
      ],
      "text/plain": [
       "      random    greedy      epig  molskill  greedy + molskill  epig + molskill\n",
       "1   0.156997  0.202020  0.216216  0.164794           0.266667         0.212389\n",
       "2   0.152091  0.253521  0.219512  0.155963           0.200000         0.220183\n",
       "3   0.151111  0.237288  0.210526  0.169312           0.222222         0.224299\n",
       "4   0.167539  0.264151  0.215385  0.173410           0.253968         0.235294\n",
       "5   0.169492  0.255319  0.190476  0.169697           0.264151         0.250000\n",
       "6   0.191083  0.272727  0.196721  0.184211           0.235294         0.263736\n",
       "7   0.194444  0.243902  0.190476  0.187919           0.200000         0.272727\n",
       "8   0.184615  0.205128  0.233333  0.171429           0.244898         0.268293\n",
       "9   0.176000  0.205128  0.178571  0.185714           0.217391         0.275000\n",
       "10  0.222222  0.205128  0.210526  0.165414           0.232558         0.256410"
      ]
     },
     "execution_count": 85,
     "metadata": {},
     "output_type": "execute_result"
    }
   ],
   "source": [
    "performances"
   ]
  },
  {
   "cell_type": "code",
   "execution_count": 86,
   "metadata": {},
   "outputs": [
    {
     "data": {
      "image/png": "[encoded data removed]",
      "text/plain": [
       "<Figure size 1600x900 with 1 Axes>"
      ]
     },
     "metadata": {},
     "output_type": "display_data"
    }
   ],
   "source": [
    "# Use a color map for the different columns\n",
    "colors = palette\n",
    "\n",
    "# Create a parallel coordinates plot\n",
    "plt.figure(figsize=(16, 9))\n",
    "\n",
    "for idx, column in enumerate(performances.columns):\n",
    "    plt.plot(performances.index, performances[column], color=colors[idx], label=column, linewidth=2.0)\n",
    "\n",
    "#plt.axhline(y=teacher_mcc_mean, color='r', linestyle='--');\n",
    "plt.fill_between(performances.index, 0, teacher_mcc_mean, color='r', alpha=0.2)\n",
    "\n",
    "plt.xticks(performances.index)  # Set x-ticks to match iteration numbers\n",
    "plt.xlim(1, 10)  # Set x-axis limits\n",
    "plt.ylim(0, )  # Set y-axis limits\n",
    "plt.title('Ensebled performaces')\n",
    "plt.xlabel('Iteration Number')\n",
    "plt.ylabel(f\"{metric.upper()}\")\n",
    "plt.legend(title='Acquisition Function', bbox_to_anchor=(1., 1), loc='upper left')\n",
    "plt.grid(True)\n",
    "plt.show()"
   ]
  },
  {
   "cell_type": "markdown",
   "metadata": {},
   "source": [
    "#### MOVE models around"
   ]
  },
  {
   "cell_type": "code",
   "execution_count": 87,
   "metadata": {},
   "outputs": [],
   "source": [
    "def load_teacher(task):\n",
    "    # Load trained model\n",
    "    with open(f\"../../FtF4/teacher/trained_models/{task}.pkl\", \"rb\") as f:\n",
    "        model = pickle.load(f)  \n",
    "\n",
    "    return model"
   ]
  },
  {
   "cell_type": "code",
   "execution_count": 88,
   "metadata": {},
   "outputs": [],
   "source": [
    "for i in [\"fluc\", \"nluc\", \"redox\", \"thiol\"]:\n",
    "    model = load_teacher(i)\n",
    "    os.makedirs(f\"trained_replicates/{i}\", exist_ok=True)\n",
    "    with open(f\"trained_replicates/{i}/{i}.pkl\", \"wb\") as f:\n",
    "        pickle.dump(model, f)"
   ]
  },
  {
   "cell_type": "code",
   "execution_count": 89,
   "metadata": {},
   "outputs": [],
   "source": [
    "samplings = [\"random\", \"greedy\", \"epig\", \"molskill\", \"epigskill\", \"greedyskill\"]\n",
    "for j in [\"thiol\", \"fluc\", \"nluc\", \"redox\"]:\n",
    "    for i in samplings:\n",
    "        os.makedirs(f\"trained_replicates/{j}/{i}\", exist_ok=True)"
   ]
  },
  {
   "cell_type": "code",
   "execution_count": 90,
   "metadata": {},
   "outputs": [],
   "source": [
    "def move_models(task, sampling, iter, version):\n",
    "    # Load the trained model\n",
    "    for i in range(iter):\n",
    "        model_path = f\"../../FtF4/RUN_REINVENT/v{version}/{sampling}/{task}/{task}_{i+1}.pkl\"\n",
    "\n",
    "        if f\"{task}_{i+1}.pkl\" in os.listdir(f\"../../FtF4/RUN_REINVENT/v{version}/{sampling}/{task}/\"):\n",
    "            with open(model_path, \"rb\") as f:\n",
    "                model = pickle.load(f)\n",
    "        #print(f\"Moving {task}_{i+1}.pkl to trained_replicates/{task}/{sampling}/rep{version}/{task}_{i+1}.pkl\")\n",
    "        # copy the model to the new location\n",
    "        with open(f\"trained_replicates/{task}/{sampling}/rep{version}/{task}_{i+1}.pkl\", \"wb\") as f:\n",
    "            pickle.dump(model, f)\n",
    "    return model"
   ]
  },
  {
   "cell_type": "code",
   "execution_count": 91,
   "metadata": {},
   "outputs": [
    {
     "name": "stdout",
     "output_type": "stream",
     "text": [
      "Moving models for fluc, random, rep1\n",
      "Moving models for fluc, random, rep2\n",
      "Moving models for fluc, random, rep3\n",
      "Moving models for fluc, random, rep4\n",
      "Moving models for fluc, random, rep5\n",
      "Moving models for fluc, greedy, rep1\n",
      "Moving models for fluc, greedy, rep2\n",
      "Moving models for fluc, greedy, rep3\n",
      "Moving models for fluc, greedy, rep4\n",
      "Moving models for fluc, greedy, rep5\n",
      "Moving models for fluc, epig, rep1\n",
      "Moving models for fluc, epig, rep2\n",
      "Moving models for fluc, epig, rep3\n",
      "Moving models for fluc, epig, rep4\n",
      "Moving models for fluc, epig, rep5\n",
      "Moving models for fluc, molskill, rep1\n",
      "Moving models for fluc, molskill, rep2\n",
      "Moving models for fluc, molskill, rep3\n",
      "Moving models for fluc, molskill, rep4\n",
      "Moving models for fluc, molskill, rep5\n",
      "Moving models for fluc, epigskill, rep1\n",
      "Moving models for fluc, epigskill, rep2\n",
      "Moving models for fluc, epigskill, rep3\n",
      "Moving models for fluc, epigskill, rep4\n",
      "Moving models for fluc, epigskill, rep5\n",
      "Moving models for fluc, greedyskill, rep1\n",
      "Moving models for fluc, greedyskill, rep2\n",
      "Moving models for fluc, greedyskill, rep3\n",
      "Moving models for fluc, greedyskill, rep4\n",
      "Moving models for fluc, greedyskill, rep5\n",
      "Moving models for nluc, random, rep1\n",
      "Moving models for nluc, random, rep2\n",
      "Moving models for nluc, random, rep3\n",
      "Moving models for nluc, random, rep4\n",
      "Moving models for nluc, random, rep5\n",
      "Moving models for nluc, greedy, rep1\n",
      "Moving models for nluc, greedy, rep2\n",
      "Moving models for nluc, greedy, rep3\n",
      "Moving models for nluc, greedy, rep4\n",
      "Moving models for nluc, greedy, rep5\n",
      "Moving models for nluc, epig, rep1\n",
      "Moving models for nluc, epig, rep2\n",
      "Moving models for nluc, epig, rep3\n",
      "Moving models for nluc, epig, rep4\n",
      "Moving models for nluc, epig, rep5\n",
      "Moving models for nluc, molskill, rep1\n",
      "Moving models for nluc, molskill, rep2\n",
      "Moving models for nluc, molskill, rep3\n",
      "Moving models for nluc, molskill, rep4\n",
      "Moving models for nluc, molskill, rep5\n",
      "Moving models for nluc, epigskill, rep1\n",
      "Moving models for nluc, epigskill, rep2\n",
      "Moving models for nluc, epigskill, rep3\n",
      "Moving models for nluc, epigskill, rep4\n",
      "Moving models for nluc, epigskill, rep5\n",
      "Moving models for nluc, greedyskill, rep1\n",
      "Moving models for nluc, greedyskill, rep2\n",
      "Moving models for nluc, greedyskill, rep3\n",
      "Moving models for nluc, greedyskill, rep4\n",
      "Moving models for nluc, greedyskill, rep5\n",
      "Moving models for redox, random, rep1\n",
      "Moving models for redox, random, rep2\n",
      "Moving models for redox, random, rep3\n",
      "Moving models for redox, random, rep4\n",
      "Moving models for redox, random, rep5\n",
      "Moving models for redox, greedy, rep1\n",
      "Moving models for redox, greedy, rep2\n",
      "Moving models for redox, greedy, rep3\n",
      "Moving models for redox, greedy, rep4\n",
      "Moving models for redox, greedy, rep5\n",
      "Moving models for redox, epig, rep1\n",
      "Moving models for redox, epig, rep2\n",
      "Moving models for redox, epig, rep3\n",
      "Moving models for redox, epig, rep4\n",
      "Moving models for redox, epig, rep5\n",
      "Moving models for redox, molskill, rep1\n",
      "Moving models for redox, molskill, rep2\n",
      "Moving models for redox, molskill, rep3\n",
      "Moving models for redox, molskill, rep4\n",
      "Moving models for redox, molskill, rep5\n",
      "Moving models for redox, epigskill, rep1\n",
      "Moving models for redox, epigskill, rep2\n",
      "Moving models for redox, epigskill, rep3\n",
      "Moving models for redox, epigskill, rep4\n",
      "Moving models for redox, epigskill, rep5\n",
      "Moving models for redox, greedyskill, rep1\n",
      "Moving models for redox, greedyskill, rep2\n",
      "Moving models for redox, greedyskill, rep3\n",
      "Moving models for redox, greedyskill, rep4\n",
      "Moving models for redox, greedyskill, rep5\n",
      "Moving models for thiol, random, rep1\n",
      "Moving models for thiol, random, rep2\n",
      "Moving models for thiol, random, rep3\n",
      "Moving models for thiol, random, rep4\n",
      "Moving models for thiol, random, rep5\n",
      "Moving models for thiol, greedy, rep1\n",
      "Moving models for thiol, greedy, rep2\n",
      "Moving models for thiol, greedy, rep3\n",
      "Moving models for thiol, greedy, rep4\n",
      "Moving models for thiol, greedy, rep5\n",
      "Moving models for thiol, epig, rep1\n",
      "Moving models for thiol, epig, rep2\n",
      "Moving models for thiol, epig, rep3\n",
      "Moving models for thiol, epig, rep4\n",
      "Moving models for thiol, epig, rep5\n",
      "Moving models for thiol, molskill, rep1\n",
      "Moving models for thiol, molskill, rep2\n",
      "Moving models for thiol, molskill, rep3\n",
      "Moving models for thiol, molskill, rep4\n",
      "Moving models for thiol, molskill, rep5\n",
      "Moving models for thiol, epigskill, rep1\n",
      "Moving models for thiol, epigskill, rep2\n",
      "Moving models for thiol, epigskill, rep3\n",
      "Moving models for thiol, epigskill, rep4\n",
      "Moving models for thiol, epigskill, rep5\n",
      "Moving models for thiol, greedyskill, rep1\n",
      "Moving models for thiol, greedyskill, rep2\n",
      "Moving models for thiol, greedyskill, rep3\n",
      "Moving models for thiol, greedyskill, rep4\n",
      "Moving models for thiol, greedyskill, rep5\n"
     ]
    }
   ],
   "source": [
    "for task in os.listdir(\"trained_replicates\"): # iterate over the tasks\n",
    "    for sampling in os.listdir(f\"trained_replicates/{task}\"): # iterate over the samplings\n",
    "        for repeat in range(1, 6): # iterate over the versions\n",
    "            if \".\" not in sampling: # Use only the sampling directories\n",
    "                # do what you need to do\n",
    "                # keeping in mind that you have 5 iterations\n",
    "                os.makedirs(f\"trained_replicates/{task}/{sampling}/rep{repeat}\", exist_ok=True)\n",
    "                print(f\"Moving models for {task}, {sampling}, rep{repeat}\") # iterate over the iterations\n",
    "                move_models(task, sampling, 10, repeat)\n"
   ]
  },
  {
   "cell_type": "markdown",
   "metadata": {},
   "source": [
    "#### MOVE datasets around"
   ]
  },
  {
   "cell_type": "code",
   "execution_count": 92,
   "metadata": {},
   "outputs": [],
   "source": [
    "# import os"
   ]
  },
  {
   "cell_type": "code",
   "execution_count": 93,
   "metadata": {},
   "outputs": [],
   "source": [
    "# for i in tqdm([\"fluc\", \"nluc\", \"redox\", \"thiol\"]):\n",
    "#     os.makedirs(f\"trained_dataset/{i}\", exist_ok=True)\n",
    "#     source = f\"../../data/train/{i}.csv\"\n",
    "#     dest = f\"trained_dataset/{i}/{i}.csv\"\n",
    "#     os.system(f'cp {source} {dest}') "
   ]
  },
  {
   "cell_type": "code",
   "execution_count": 94,
   "metadata": {},
   "outputs": [],
   "source": [
    "# samplings = [\"random\", \"greedy\", \"epig\", \"molskill\", \"epigskill\", \"greedyskill\"]\n",
    "# for j in [\"thiol\", \"fluc\", \"nluc\", \"redox\"]:\n",
    "#     for i in samplings:\n",
    "#         os.makedirs(f\"trained_dataset/{j}/{i}\", exist_ok=True)"
   ]
  },
  {
   "cell_type": "code",
   "execution_count": 95,
   "metadata": {},
   "outputs": [],
   "source": [
    "# def move_models(task, sampling, iter, version):\n",
    "#     # Load the trained model\n",
    "#     for i in range(iter):\n",
    "#         source = f\"../../FtF4/RUN_REINVENT/v{version}/{sampling}/{task}/selected_{i+1}.csv\"\n",
    "\n",
    "#         if f\"selected_{i+1}.csv\" in os.listdir(f\"../../FtF4/RUN_REINVENT/v{version}/{sampling}/{task}/\"):\n",
    "#         #print(f\"Moving {task}_{i+1}.pkl to trained_replicates/{task}/{sampling}/rep{version}/{task}_{i+1}.pkl\")\n",
    "#         # copy the model to the new location\n",
    "#             os.system(f'cp {source} trained_dataset/{task}/{sampling}/rep{version}/selected_{i+1}.csv')\n",
    "#     return print(f\"Moved {task}, {sampling}, rep{version}\")"
   ]
  },
  {
   "cell_type": "code",
   "execution_count": 96,
   "metadata": {},
   "outputs": [],
   "source": [
    "# for task in os.listdir(\"trained_dataset\"): # iterate over the tasks - First level of the directory tree\n",
    "#     for sampling in os.listdir(f\"trained_dataset/{task}\"): # iterate over the samplings - Second level of the directory tree\n",
    "#         for repeat in range(1, 6): # iterate over the versions - Third level of the directory tree\n",
    "#             if \".\" not in sampling: # Use only the sampling directories\n",
    "#                 # do what you need to do\n",
    "#                 # keeping in mind that you have 5 iterations\n"
   ]
  },
  {
   "cell_type": "code",
   "execution_count": null,
   "metadata": {},
   "outputs": [],
   "source": []
  }
 ],
 "metadata": {
  "kernelspec": {
   "display_name": "reinvent4",
   "language": "python",
   "name": "python3"
  },
  "language_info": {
   "codemirror_mode": {
    "name": "ipython",
    "version": 3
   },
   "file_extension": ".py",
   "mimetype": "text/x-python",
   "name": "python",
   "nbconvert_exporter": "python",
   "pygments_lexer": "ipython3",
   "version": "3.10.14"
  }
 },
 "nbformat": 4,
 "nbformat_minor": 2
}
